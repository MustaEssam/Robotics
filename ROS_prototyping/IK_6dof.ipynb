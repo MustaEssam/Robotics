{
 "cells": [
  {
   "cell_type": "code",
   "execution_count": 15,
   "metadata": {},
   "outputs": [
    {
     "name": "stdout",
     "output_type": "stream",
     "text": [
      "T2\n",
      "T3\n",
      "T4\n",
      "T5\n",
      "T6\n",
      "TG\n"
     ]
    }
   ],
   "source": [
    "from math import pi\n",
    "import numpy as np\n",
    "from sympy import symbols, sin, cos, simplify, pi\n",
    "from sympy.matrices import Matrix\n",
    "\n",
    "a0, a1, a2, a3, a4, a5, a6 = symbols('a1:8')\n",
    "q1, q2, q3, q4, q5, q6, q7 = symbols('q1:8')    #theta \n",
    "d1, d2, d3, d4, d5, d6, d7 = symbols('d1:8')\n",
    "alpha0, alpha1, alpha2, alpha3, alpha4, alpha5, alpha6 = symbols('alpha1:8')\n",
    "\n",
    "# D-H parameters\n",
    "s = {alpha0:    0 , a0:  0    , d1: 0.75 ,\n",
    "     alpha1: -pi/2, a1: 0.35  , d2:  0   , q2: q2-pi/2,\n",
    "     alpha2:    0 , a2: 1.25  , d3:  0   , \n",
    "     alpha3: -pi/2, a3:-0.054 , d4: 1.5  , \n",
    "     alpha4: pi/2 , a4:   0   , d5:  0   ,\n",
    "     alpha5: -pi/2, a5:   0   , d6:  0   ,\n",
    "     alpha6:    0 , a6:   0   , d7: 0.303, q7:   0    }\n",
    "\n",
    "T0_1 = Matrix([[    cos(q1)     ,      -sin(q1)      ,      0      ,        a0      ],\n",
    "            [sin(q1)*cos(alpha0), cos(q1)*cos(alpha0), -sin(alpha0), -sin(alpha0)*d1],\n",
    "            [sin(q1)*sin(alpha0), cos(q1)*sin(alpha0), cos(alpha0) , cos(alpha0)*d1 ],\n",
    "            [           0       ,          0         ,      0      ,        1       ]])\n",
    "T0_1 = T0_1.subs(s)\n",
    "\n",
    "T1_2 = Matrix([[    cos(q2)     ,      -sin(q2)      ,      0      ,        a1      ],\n",
    "            [sin(q2)*cos(alpha1), cos(q2)*cos(alpha1), -sin(alpha1), -sin(alpha1)*d2],\n",
    "            [sin(q2)*sin(alpha1), cos(q2)*sin(alpha1), cos(alpha1) , cos(alpha1)*d2 ],\n",
    "            [           0       ,          0         ,      0      ,        1       ]])\n",
    "T1_2 = T1_2.subs(s)\n",
    "\n",
    "T2_3 = Matrix([[    cos(q3)     ,      -sin(q3)      ,      0      ,        a2      ],\n",
    "            [sin(q3)*cos(alpha2), cos(q3)*cos(alpha2), -sin(alpha2), -sin(alpha2)*d3],\n",
    "            [sin(q3)*sin(alpha2), cos(q3)*sin(alpha2), cos(alpha2) , cos(alpha2)*d3 ],\n",
    "            [           0       ,          0         ,      0      ,        1       ]])\n",
    "T2_3 = T2_3.subs(s)\n",
    "\n",
    "T3_4 = Matrix([[    cos(q4)     ,      -sin(q4)      ,      0      ,        a3      ],\n",
    "            [sin(q4)*cos(alpha3), cos(q4)*cos(alpha3), -sin(alpha3), -sin(alpha3)*d4],\n",
    "            [sin(q4)*sin(alpha3), cos(q4)*sin(alpha3), cos(alpha3) , cos(alpha3)*d4 ],\n",
    "            [           0       ,          0         ,      0      ,        1       ]])\n",
    "T3_4 = T3_4.subs(s)\n",
    "\n",
    "T4_5 = Matrix([[    cos(q5)     ,      -sin(q5)      ,      0      ,        a4      ],\n",
    "            [sin(q5)*cos(alpha4), cos(q5)*cos(alpha4), -sin(alpha4), -sin(alpha4)*d5],\n",
    "            [sin(q5)*sin(alpha4), cos(q5)*sin(alpha4), cos(alpha4) , cos(alpha4)*d5 ],\n",
    "            [           0       ,          0         ,      0      ,        1       ]])\n",
    "T4_5 = T4_5.subs(s)\n",
    "\n",
    "T5_6 = Matrix([[    cos(q6)     ,      -sin(q6)      ,      0      ,        a5      ],\n",
    "            [sin(q6)*cos(alpha5), cos(q6)*cos(alpha5), -sin(alpha5), -sin(alpha5)*d6],\n",
    "            [sin(q6)*sin(alpha5), cos(q6)*sin(alpha5), cos(alpha5) , cos(alpha5)*d6 ],\n",
    "            [           0       ,          0         ,      0      ,        1       ]])\n",
    "T5_6 = T5_6.subs(s)\n",
    "\n",
    "T6_G = Matrix([[    cos(q7)     ,      -sin(q7)      ,      0      ,        a6      ],\n",
    "            [sin(q7)*cos(alpha6), cos(q7)*cos(alpha6), -sin(alpha6), -sin(alpha6)*d7],\n",
    "            [sin(q7)*sin(alpha6), cos(q7)*sin(alpha6), cos(alpha6) , cos(alpha6)*d7 ],\n",
    "            [           0       ,          0         ,      0      ,        1       ]])\n",
    "T6_G = T6_G.subs(s)\n",
    "\n",
    "T0_2 = simplify(T0_1 * T1_2)\n",
    "print(\"T2\")\n",
    "T0_3 = simplify(T0_2 * T2_3)\n",
    "print(\"T3\")\n",
    "T0_4 = simplify(T0_3 * T3_4)\n",
    "print(\"T4\")\n",
    "T0_5 = simplify(T0_4 * T4_5)\n",
    "print(\"T5\")\n",
    "T0_6 = simplify(T0_5 * T5_6)\n",
    "print(\"T6\")\n",
    "T0_G = simplify(T0_6 * T6_G)\n",
    "print(\"TG\")"
   ]
  },
  {
   "cell_type": "code",
   "execution_count": 37,
   "metadata": {},
   "outputs": [],
   "source": [
    "# angles from Quatrinion to Euler\n",
    "from scipy.spatial.transform import Rotation as R\n",
    "r = R.from_quat([0,-0.00014835,0,1])\n",
    "rpy = r.as_euler('xyz')\n",
    "\n",
    "\n",
    "px= 1.5544\n",
    "py= -0.0364\n",
    "pz= 2.5346\n",
    "\n",
    "d6 = 0\n",
    "l = 0.303"
   ]
  },
  {
   "cell_type": "code",
   "execution_count": 23,
   "metadata": {},
   "outputs": [],
   "source": [
    "from sympy import Matrix, simplify, sin, cos, pi\n",
    "\n",
    "def rotaion_mat(q1=0, q2=0, q3=0):\n",
    "    R_x = Matrix([[ 1,              0,        0, 0],\n",
    "                [ 0,        cos(q1), -sin(q1),  0],\n",
    "                [ 0,        sin(q1),  cos(q1),  0],\n",
    "                [   0   ,       0    ,    0   , 1]])\n",
    "\n",
    "    R_y = Matrix([[ cos(q2),        0,  sin(q2), 0],\n",
    "                [       0,        1,        0,  0],\n",
    "                [-sin(q2),        0,  cos(q2),  0],\n",
    "                [   0   ,       0    ,    0   , 1]])\n",
    "\n",
    "    R_z = Matrix([[ cos(q3), -sin(q3),        0, 0],\n",
    "                [ sin(q3),  cos(q3),        0 ,  0],\n",
    "                [ 0,              0,        1,   0],\n",
    "                [   0   ,       0    ,    0   , 1]])\n",
    "    return R_x, R_y, R_z \n",
    "\n"
   ]
  },
  {
   "cell_type": "code",
   "execution_count": 27,
   "metadata": {},
   "outputs": [
    {
     "name": "stdout",
     "output_type": "stream",
     "text": [
      "0.999999955984556 0 0.000296699993470208\n"
     ]
    }
   ],
   "source": [
    "R_x, R_y, R_z = rotaion_mat(q2= -pi/2, q3=pi)\n",
    "R_corr = simplify(R_z * R_y)\n",
    "\n",
    "R_x, R_y, R_z = rotaion_mat(q1= rpy[0], q2=rpy[1], q3=rpy[2])\n",
    "R_rpy = simplify(R_z * R_y * R_x * R_corr)\n",
    "nx, ny, nz = R_rpy[:3,2]\n",
    "print(nx , ny, nz)"
   ]
  },
  {
   "cell_type": "code",
   "execution_count": 38,
   "metadata": {},
   "outputs": [
    {
     "name": "stdout",
     "output_type": "stream",
     "text": [
      "1.25140001333668 -0.0364000000000000 2.53451009990198\n"
     ]
    }
   ],
   "source": [
    "# finding wrist position\n",
    "wx= px - (d6+l) * nx \n",
    "wy= py - (d6+l) * ny \n",
    "wz= pz - (d6+l) * nz \n",
    "print(wx, wy, wz)"
   ]
  },
  {
   "cell_type": "code",
   "execution_count": 31,
   "metadata": {},
   "outputs": [],
   "source": [
    "T3_6 = simplify(T0_3.inv(method=\"LU\") * T0_6)\n",
    "R = simplify(T0_3.inv(method=\"LU\") * R_rpy)"
   ]
  },
  {
   "cell_type": "code",
   "execution_count": 32,
   "metadata": {},
   "outputs": [
    {
     "data": {
      "text/latex": [
       "$\\displaystyle \\left[\\begin{matrix}- 0.000296699993470208 \\sin{\\left(q_{2} + q_{3} \\right)} \\cos{\\left(q_{1} \\right)} + 0.999999955984556 \\cos{\\left(q_{2} + q_{3} \\right)} & - \\sin{\\left(q_{1} \\right)} \\sin{\\left(q_{2} + q_{3} \\right)} & 0.999999955984556 \\sin{\\left(q_{2} + q_{3} \\right)} \\cos{\\left(q_{1} \\right)} + 0.000296699993470208 \\cos{\\left(q_{2} + q_{3} \\right)} & - 0.35 \\sin{\\left(q_{2} + q_{3} \\right)} - 1.25 \\cos{\\left(q_{3} \\right)} - 0.75 \\cos{\\left(q_{2} + q_{3} \\right)}\\\\- 0.999999955984556 \\sin{\\left(q_{2} + q_{3} \\right)} - 0.000296699993470208 \\cos{\\left(q_{1} \\right)} \\cos{\\left(q_{2} + q_{3} \\right)} & - \\sin{\\left(q_{1} \\right)} \\cos{\\left(q_{2} + q_{3} \\right)} & - 0.000296699993470208 \\sin{\\left(q_{2} + q_{3} \\right)} + 0.999999955984556 \\cos{\\left(q_{1} \\right)} \\cos{\\left(q_{2} + q_{3} \\right)} & 1.25 \\sin{\\left(q_{3} \\right)} + 0.75 \\sin{\\left(q_{2} + q_{3} \\right)} - 0.35 \\cos{\\left(q_{2} + q_{3} \\right)}\\\\0.000296699993470208 \\sin{\\left(q_{1} \\right)} & - \\cos{\\left(q_{1} \\right)} & - 0.999999955984556 \\sin{\\left(q_{1} \\right)} & 0\\\\0 & 0 & 0 & 1\\end{matrix}\\right]$"
      ],
      "text/plain": [
       "Matrix([\n",
       "[-0.000296699993470208*sin(q2 + q3)*cos(q1) + 0.999999955984556*cos(q2 + q3), -sin(q1)*sin(q2 + q3),  0.999999955984556*sin(q2 + q3)*cos(q1) + 0.000296699993470208*cos(q2 + q3), -0.35*sin(q2 + q3) - 1.25*cos(q3) - 0.75*cos(q2 + q3)],\n",
       "[-0.999999955984556*sin(q2 + q3) - 0.000296699993470208*cos(q1)*cos(q2 + q3), -sin(q1)*cos(q2 + q3), -0.000296699993470208*sin(q2 + q3) + 0.999999955984556*cos(q1)*cos(q2 + q3),  1.25*sin(q3) + 0.75*sin(q2 + q3) - 0.35*cos(q2 + q3)],\n",
       "[                                               0.000296699993470208*sin(q1),              -cos(q1),                                                  -0.999999955984556*sin(q1),                                                     0],\n",
       "[                                                                          0,                     0,                                                                           0,                                                     1]])"
      ]
     },
     "execution_count": 32,
     "metadata": {},
     "output_type": "execute_result"
    }
   ],
   "source": [
    "R"
   ]
  },
  {
   "cell_type": "code",
   "execution_count": 33,
   "metadata": {},
   "outputs": [
    {
     "data": {
      "text/latex": [
       "$\\displaystyle \\left[\\begin{matrix}- \\sin{\\left(q_{4} \\right)} \\sin{\\left(q_{6} \\right)} + \\cos{\\left(q_{4} \\right)} \\cos{\\left(q_{5} \\right)} \\cos{\\left(q_{6} \\right)} & - \\sin{\\left(q_{4} \\right)} \\cos{\\left(q_{6} \\right)} - \\sin{\\left(q_{6} \\right)} \\cos{\\left(q_{4} \\right)} \\cos{\\left(q_{5} \\right)} & - \\sin{\\left(q_{5} \\right)} \\cos{\\left(q_{4} \\right)} & -0.054\\\\\\sin{\\left(q_{5} \\right)} \\cos{\\left(q_{6} \\right)} & - \\sin{\\left(q_{5} \\right)} \\sin{\\left(q_{6} \\right)} & \\cos{\\left(q_{5} \\right)} & 1.5\\\\- \\sin{\\left(q_{4} \\right)} \\cos{\\left(q_{5} \\right)} \\cos{\\left(q_{6} \\right)} - \\sin{\\left(q_{6} \\right)} \\cos{\\left(q_{4} \\right)} & \\sin{\\left(q_{4} \\right)} \\sin{\\left(q_{6} \\right)} \\cos{\\left(q_{5} \\right)} - \\cos{\\left(q_{4} \\right)} \\cos{\\left(q_{6} \\right)} & \\sin{\\left(q_{4} \\right)} \\sin{\\left(q_{5} \\right)} & 0\\\\0 & 0 & 0 & 1\\end{matrix}\\right]$"
      ],
      "text/plain": [
       "Matrix([\n",
       "[-sin(q4)*sin(q6) + cos(q4)*cos(q5)*cos(q6), -sin(q4)*cos(q6) - sin(q6)*cos(q4)*cos(q5), -sin(q5)*cos(q4), -0.054],\n",
       "[                           sin(q5)*cos(q6),                           -sin(q5)*sin(q6),          cos(q5),    1.5],\n",
       "[-sin(q4)*cos(q5)*cos(q6) - sin(q6)*cos(q4),  sin(q4)*sin(q6)*cos(q5) - cos(q4)*cos(q6),  sin(q4)*sin(q5),      0],\n",
       "[                                         0,                                          0,                0,      1]])"
      ]
     },
     "execution_count": 33,
     "metadata": {},
     "output_type": "execute_result"
    }
   ],
   "source": [
    "T3_6"
   ]
  },
  {
   "cell_type": "code",
   "execution_count": 41,
   "metadata": {},
   "outputs": [
    {
     "name": "stdout",
     "output_type": "stream",
     "text": [
      "-0.02907922252894765\n"
     ]
    }
   ],
   "source": [
    "from math import atan2\n",
    "q1 = atan2(wy, wx)\n",
    "print(q1)"
   ]
  },
  {
   "cell_type": "code",
   "execution_count": null,
   "metadata": {},
   "outputs": [],
   "source": []
  }
 ],
 "metadata": {
  "interpreter": {
   "hash": "729ca685fb9525e128de02155759a38610ed20e249cee2f86a7da3b0c1f2ff3f"
  },
  "kernelspec": {
   "display_name": "Python 3.6.12 64-bit ('base': conda)",
   "name": "python3"
  },
  "language_info": {
   "codemirror_mode": {
    "name": "ipython",
    "version": 3
   },
   "file_extension": ".py",
   "mimetype": "text/x-python",
   "name": "python",
   "nbconvert_exporter": "python",
   "pygments_lexer": "ipython3",
   "version": "3.6.12"
  },
  "orig_nbformat": 4
 },
 "nbformat": 4,
 "nbformat_minor": 2
}
