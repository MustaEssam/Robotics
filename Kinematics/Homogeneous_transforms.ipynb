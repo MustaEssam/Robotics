{
 "cells": [
  {
   "cell_type": "code",
   "execution_count": 7,
   "metadata": {},
   "outputs": [
    {
     "name": "stdout",
     "output_type": "stream",
     "text": [
      "P_new is : Matrix([[42.0*sin(q1) + 15.0*cos(q1) + 1], [0], [-15.0*sin(q1) + 42.0*cos(q1) + 30], [1]])\n",
      "Matrix([[35.3367879231231], [0], [1.53976466853329], [1.00000000000000]])\n"
     ]
    }
   ],
   "source": [
    "#!usr/bin/env python\n",
    "\n",
    "from sympy import symbols, cos, sin, pi, simplify, sqrt, atan2\n",
    "from sympy.matrices import Matrix\n",
    "\n",
    "###############################################################\n",
    "# Problem Statement:\n",
    "  # Let P be a vector expressed in frame {B} with (x,y,z)\n",
    "  # coordinates = (15.0, 0.0, 42.0)\n",
    "  # Rotate P about the Y-axis by angle = 110 degrees. \n",
    "  # Then translate the vector 1 unit\n",
    "  # in the X-axis and 30 units in the Z-axis. \n",
    "  # Print the new (x, y, z) coordinates of P after the transformation.  \n",
    "###############################################################\n",
    "#### Create symbols for joint variables\n",
    "q1 = symbols('q1')\n",
    "gamma  = symbols('gamma')\n",
    "\n",
    "#### TO DO ####\n",
    "# Replace P and T with appropriate expressions and calculate new coordinates of P in {A}. \n",
    "P = 1     # P should be a 4x1 Matrix\n",
    "P = Matrix([[15.0],\n",
    "            [0.0],\n",
    "            [42.0],\n",
    "            [1]])\n",
    "\n",
    "T = 1     # T Should be a 4x4 homogeneous Transform\n",
    "T = Matrix([[cos(q1),   0, sin(q1),  1],\n",
    "            [   0  ,   1,   0    ,  0],\n",
    "            [-sin(q1), 0, cos(q1), 30],\n",
    "            [    0   , 0,     0  ,  1]])\n",
    "P_new = T * P\n",
    "print(\"P_new is :\", P_new)\n",
    "P_new = P_new.evalf(subs={q1:110*pi/180})\n",
    "print(P_new)\n",
    "\n"
   ]
  },
  {
   "cell_type": "markdown",
   "metadata": {},
   "source": [
    "# Solution"
   ]
  },
  {
   "cell_type": "code",
   "execution_count": 3,
   "metadata": {},
   "outputs": [
    {
     "name": "stdout",
     "output_type": "stream",
     "text": [
      "P_new is : Matrix([[42.0*sin(q1) + 15.0*cos(q1) + 1.0], [0], [-15.0*sin(q1) + 42.0*cos(q1) + 30.0], [1]])\n",
      "The new coordinates of P_A are : Matrix([[35.3367879231231], [0], [1.53976466853328], [1.00000000000000]])\n"
     ]
    }
   ],
   "source": [
    "#!/usr/bin/env python\n",
    "from sympy import symbols, cos, sin, pi, simplify, sqrt, atan2\n",
    "from sympy.matrices import Matrix\n",
    "\n",
    "# Conversion Factors\n",
    "rtd = 180./pi # radians to degrees\n",
    "dtr = pi/180. # degrees to radians\n",
    "\n",
    "################################################\n",
    "#### Create symbol for rotation angle\n",
    "q1 = symbols('q1')\n",
    "\n",
    "# Construct P in {B}\n",
    "P = Matrix([[15.0],[0.0],[42.0],[1]])\n",
    "\n",
    "# Define Homogeneous Transform\n",
    "T = Matrix([[ cos(q1),   0,  sin(q1),    1.],\n",
    "            [ 0,         1,        0,    0.],\n",
    "            [ -sin(q1),  0,  cos(q1),   30.], \n",
    "            [ 0,       0,          0,   1 ]])\n",
    "\n",
    "# Calculate new coordinates of P in {A}\n",
    "P_new = simplify(T * P)\n",
    "print(\"P_new is :\", P_new)\n",
    "\n",
    "# Evaluate numerically\n",
    "print(\"The new coordinates of P_A are :\", P_new.evalf(subs={q1: 110*dtr}))"
   ]
  },
  {
   "cell_type": "code",
   "execution_count": 8,
   "metadata": {},
   "outputs": [],
   "source": [
    "# Conversion Factors\n",
    "rtd = 180./pi # radians to degrees\n",
    "dtr = pi/180. # degrees to radians"
   ]
  },
  {
   "cell_type": "code",
   "execution_count": 17,
   "metadata": {},
   "outputs": [
    {
     "name": "stdout",
     "output_type": "stream",
     "text": [
      "Transformation Matrix for A->B->E:\n",
      "Matrix([[1.00000000000000, 0, 0, -2.00000000000000], [0, 0, -1.00000000000000, 4.00000000000000], [0, 1.00000000000000, 0, 4.00000000000000], [0, 0, 0, 1.00000000000000]])\n",
      "Transformation Matrix for A->C->D->E:\n",
      "Matrix([[1.00000000000000, 0, 0, -2.00000000000000], [0, 0, -1.00000000000000, 4.00000000000000], [0, 1.00000000000000, 0, 4.00000000000000], [0, 0, 0, 1.00000000000000]])\n"
     ]
    }
   ],
   "source": [
    "#!/usr/bin/env python\n",
    "\n",
    "from sympy import symbols, cos, sin, pi, sqrt, simplify\n",
    "from sympy.matrices import Matrix\n",
    "\n",
    "### Create symbols for joint variables\n",
    "# The numbers 1 to 4 correspond to each rotation in the order specified to you.\n",
    "q1, q2, q3, q4 = symbols('q1:5')\n",
    "\n",
    "### Define functions for Rotation Matrices about x, y, and z given specific angle.\n",
    "\n",
    "def rot_x(q):\n",
    "    R_x = Matrix([[ 1   ,   0   ,    0   ],\n",
    "                  [ 0   , cos(q), -sin(q)],\n",
    "                  [ 0   , sin(q),  cos(q)]])\n",
    "    \n",
    "    return R_x\n",
    "    \n",
    "def rot_y(q):              \n",
    "    R_y = Matrix([[ cos(q2),        0,  sin(q2)],\n",
    "                  [    0   ,        1,    0    ],\n",
    "                  [-sin(q2),        0,  cos(q2)]])\n",
    "    \n",
    "    return R_y\n",
    "\n",
    "def rot_z(q):    \n",
    "    R_z = Matrix([[ cos(q3), -sin(q3),        0],\n",
    "                  [ sin(q3),  cos(q3),        0],\n",
    "                  [ 0,              0,        1]])\n",
    "    \n",
    "    return R_z\n",
    "              \n",
    "### Define rotations between frames\n",
    "\n",
    "# Initial Rotation Matrix for Frame A\n",
    "Ra = Matrix([[1, 0, 0],\n",
    "             [0, 1, 0],\n",
    "             [0, 0, 1]])\n",
    "\n",
    "# Rotations performed on individual Frames for A->B->E\n",
    "Rb_a = rot_y(-90*dtr)\n",
    "Re_b = rot_x(90 *dtr)\n",
    "\n",
    "# Rotations performed on individual Frames for A->C->D->E\n",
    "Rc_a = Ra\n",
    "Rd_c = rot_x(90*dtr)\n",
    "Re_d = rot_z(90*dtr)\n",
    "\n",
    "### Define Translations between frames.\n",
    "\n",
    "tb_a = Matrix([[-2], [2], [4]])\n",
    "te_b = Matrix([[0], [2], [0]])\n",
    "tc_a = Matrix([[4], [4], [0]])\n",
    "td_c = Matrix([[-3], [3], [2]])\n",
    "te_d = Matrix([[-3], [2], [3]])\n",
    "\n",
    "### Define homogenous transformation matrices\n",
    "# HINT: Check out sympy's documentation for functions row_join and col_join\n",
    "scale_factor = Matrix([[0,0,0,1]])\n",
    "Ta = Ra.row_join(Matrix([[0],[0],[0]])).col_join(scale_factor)\n",
    "\n",
    "Tb_a = Rb_a.row_join(tb_a).col_join(scale_factor)\n",
    "\n",
    "Te_b = Re_b.row_join(te_b).col_join(scale_factor)\n",
    "\n",
    "Tc_a = Rc_a.row_join(tc_a).col_join(scale_factor)\n",
    "\n",
    "Td_c = Rd_c.row_join(td_c).col_join(scale_factor)\n",
    "\n",
    "Te_d = Re_d.row_join(te_d).col_join(scale_factor)\n",
    "\n",
    "### Composition of Transformations\n",
    "Te_a_1 = simplify(Ta * Tb_a * Te_b)\n",
    "\n",
    "Te_a_2 = simplify(Ta * Tc_a * Td_c * Te_d)\n",
    "\n",
    "### Calculate orientation and position for E\n",
    "E_1 = Te_a_1.evalf(subs={q1: 0, q2: 0}, chop = True)\n",
    "\n",
    "E_2 = Te_a_2.evalf(subs={q3: 0, q4: 0}, chop = True)\n",
    "\n",
    "print(\"Transformation Matrix for A->B->E:\")\n",
    "print(E_1)\n",
    "\n",
    "print(\"Transformation Matrix for A->C->D->E:\")\n",
    "print(E_2)\n"
   ]
  },
  {
   "cell_type": "markdown",
   "metadata": {},
   "source": [
    "# Solution"
   ]
  },
  {
   "cell_type": "code",
   "execution_count": 21,
   "metadata": {},
   "outputs": [
    {
     "name": "stdout",
     "output_type": "stream",
     "text": [
      "Transformation Matrix for A->B->E:\n",
      "Matrix([[0, -1.00000000000000, 0, -2.00000000000000], [0, 0, -1.00000000000000, 4.00000000000000], [1.00000000000000, 0, 0, 4.00000000000000], [0, 0, 0, 1.00000000000000]])\n",
      "Transformation Matrix for A->C->D->E:\n",
      "Matrix([[0, -1.00000000000000, 0, -2.00000000000000], [0, 0, -1.00000000000000, 4.00000000000000], [1.00000000000000, 0, 0, 4.00000000000000], [0, 0, 0, 1.00000000000000]])\n"
     ]
    },
    {
     "data": {
      "text/latex": [
       "$\\displaystyle \\left[\\begin{matrix}0 & -1.0 & 0 & -2.0\\\\0 & 0 & -1.0 & 4.0\\\\1.0 & 0 & 0 & 4.0\\\\0 & 0 & 0 & 1.0\\end{matrix}\\right]$"
      ],
      "text/plain": [
       "Matrix([\n",
       "[  0, -1.0,    0, -2.0],\n",
       "[  0,    0, -1.0,  4.0],\n",
       "[1.0,    0,    0,  4.0],\n",
       "[  0,    0,    0,  1.0]])"
      ]
     },
     "execution_count": 21,
     "metadata": {},
     "output_type": "execute_result"
    }
   ],
   "source": [
    "#!/usr/bin/env python\n",
    "\n",
    "from sympy import symbols, cos, sin, pi, sqrt, simplify\n",
    "from sympy.matrices import Matrix\n",
    "\n",
    "### Create symbols for joint variables\n",
    "# The numbers 1 to 4 correspond to each rotation in the order specified to you.\n",
    "q1, q2, q3, q4 = symbols('q1:5')\n",
    "\n",
    "### Define functions for Rotation Matrices about x, y, and z given specific angle.\n",
    "\n",
    "def rot_x(q):\n",
    "    R_x = Matrix([[ 1,              0,        0],\n",
    "                  [ 0,         cos(q),  -sin(q)],\n",
    "                  [ 0,         sin(q),  cos(q)]])\n",
    "    \n",
    "    return R_x\n",
    "    \n",
    "def rot_y(q):              \n",
    "    R_y = Matrix([[ cos(q),        0,  sin(q)],\n",
    "                  [      0,        1,       0],\n",
    "                  [-sin(q),        0, cos(q)]])\n",
    "    \n",
    "    return R_y\n",
    "\n",
    "def rot_z(q):    \n",
    "    R_z = Matrix([[ cos(q),  -sin(q),       0],\n",
    "                  [ sin(q),   cos(q),       0],\n",
    "                  [      0,        0,       1]])\n",
    "    \n",
    "    return R_z\n",
    "              \n",
    "### Define rotations between frames\n",
    "\n",
    "# Initial Rotation Matrix for Frame A\n",
    "Ra = Matrix([[1, 0, 0],\n",
    "             [0, 1, 0],\n",
    "             [0, 0, 1]])\n",
    "\n",
    "\n",
    "# Rotations performed on individual Frames for A->B->E\n",
    "Rb_a = rot_y(q1)\n",
    "Re_b = rot_x(q2)\n",
    "\n",
    "# Rotations performed on individual Frames for A->C->D->E\n",
    "Rc_a = Ra\n",
    "Rd_c = rot_x(q3)\n",
    "Re_d = rot_z(q4)\n",
    "\n",
    "### Define Translations between frames.\n",
    "\n",
    "tb_a = Matrix([ [-2],  [2], [4]])\n",
    "te_b = Matrix([  [0],  [2], [0]])\n",
    "tc_a = Matrix([  [4],  [4], [0]])\n",
    "td_c = Matrix([ [-3],  [3], [2]])\n",
    "te_d = Matrix([ [-3],  [2], [3]])\n",
    "\n",
    "### Define homogenous transformation matrices\n",
    "Ta = Ra.row_join(Matrix([[0], [0], [0]]))\n",
    "Ta = Ta.col_join(Matrix([[0, 0, 0, 1]])) \n",
    "\n",
    "Tb_a = Rb_a.row_join(tb_a)\n",
    "Tb_a = Tb_a.col_join(Matrix([[0, 0, 0, 1]]))\n",
    "\n",
    "Te_b = Re_b.row_join(te_b)\n",
    "Te_b = Te_b.col_join(Matrix([[0, 0, 0, 1]]))\n",
    "\n",
    "Tc_a = Rc_a.row_join(tc_a)\n",
    "Tc_a = Tc_a.col_join(Matrix([[0, 0, 0, 1]]))\n",
    "\n",
    "Td_c = Rd_c.row_join(td_c)\n",
    "Td_c = Td_c.col_join(Matrix([[0, 0, 0, 1]]))\n",
    "\n",
    "Te_d = Re_d.row_join(te_d)\n",
    "Te_d = Te_d.col_join(Matrix([[0, 0, 0, 1]]))               \n",
    "\n",
    "### Composition of Transformations\n",
    "Te_a_1 = simplify(Ta * Tb_a * Te_b)\n",
    "\n",
    "Te_a_2 = simplify(Ta * Tc_a * Td_c * Te_d)\n",
    "\n",
    "### Calculate orientation and position for E\n",
    "E_1 = Te_a_1.evalf(subs={q1: -pi/2, q2: pi/2}, chop = True)\n",
    "\n",
    "E_2 = Te_a_2.evalf(subs={q3: pi/2, q4: pi/2}, chop = True)\n",
    "print(\"Transformation Matrix for A->B->E:\")\n",
    "print(E_1)\n",
    "\n",
    "print(\"Transformation Matrix for A->C->D->E:\")\n",
    "print(E_2)\n",
    "E_1"
   ]
  },
  {
   "cell_type": "code",
   "execution_count": 22,
   "metadata": {},
   "outputs": [
    {
     "data": {
      "text/latex": [
       "$\\displaystyle \\left[\\begin{matrix}0 & -1.0 & 0 & -2.0\\\\0 & 0 & -1.0 & 4.0\\\\1.0 & 0 & 0 & 4.0\\\\0 & 0 & 0 & 1.0\\end{matrix}\\right]$"
      ],
      "text/plain": [
       "Matrix([\n",
       "[  0, -1.0,    0, -2.0],\n",
       "[  0,    0, -1.0,  4.0],\n",
       "[1.0,    0,    0,  4.0],\n",
       "[  0,    0,    0,  1.0]])"
      ]
     },
     "execution_count": 22,
     "metadata": {},
     "output_type": "execute_result"
    }
   ],
   "source": [
    "E_2"
   ]
  },
  {
   "cell_type": "code",
   "execution_count": null,
   "metadata": {},
   "outputs": [],
   "source": []
  }
 ],
 "metadata": {
  "interpreter": {
   "hash": "729ca685fb9525e128de02155759a38610ed20e249cee2f86a7da3b0c1f2ff3f"
  },
  "kernelspec": {
   "display_name": "Python 3.6.12 64-bit ('base': conda)",
   "name": "python3"
  },
  "language_info": {
   "codemirror_mode": {
    "name": "ipython",
    "version": 3
   },
   "file_extension": ".py",
   "mimetype": "text/x-python",
   "name": "python",
   "nbconvert_exporter": "python",
   "pygments_lexer": "ipython3",
   "version": "3.6.12"
  },
  "orig_nbformat": 4
 },
 "nbformat": 4,
 "nbformat_minor": 2
}
